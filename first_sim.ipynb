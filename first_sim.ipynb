{
 "cells": [
  {
   "cell_type": "code",
   "execution_count": 5,
   "metadata": {},
   "outputs": [
    {
     "name": "stdout",
     "output_type": "stream",
     "text": [
      "{'robotId_1': {'joint_states': {'joint_0': {'position': -0.18000157430828054, 'velocity': 0.00010820159484242453, 'reaction_forces': (0.0, 0.0, 0.0, 0.0, 0.0, 0.0), 'motor_torque': -500.00000000000006}, 'joint_1': {'position': -0.13000720606109395, 'velocity': 0.0004390055186484285, 'reaction_forces': (0.0, 0.0, 0.0, 0.0, 0.0, 0.0), 'motor_torque': -500.00000000000006}, 'joint_2': {'position': 0.17013612501040487, 'velocity': -0.008167500624291169, 'reaction_forces': (0.0, 0.0, 0.0, 0.0, 0.0, 0.0), 'motor_torque': 800.0}}, 'robot_position': [0.1800019683992858, 0.13000717957217392, 0.20013605527645725], 'pipette_position': [0.253, 0.2195, 0.2896]}}\n"
     ]
    },
    {
     "data": {
      "text/plain": [
       "{'robotId_2': {'joint_states': {'joint_0': {'position': 0.0,\n",
       "    'velocity': 0.0,\n",
       "    'reaction_forces': (0.0, 0.0, 0.0, 0.0, 0.0, 0.0),\n",
       "    'motor_torque': 0.0},\n",
       "   'joint_1': {'position': 0.0,\n",
       "    'velocity': 0.0,\n",
       "    'reaction_forces': (0.0, 0.0, 0.0, 0.0, 0.0, 0.0),\n",
       "    'motor_torque': 0.0},\n",
       "   'joint_2': {'position': 0.0,\n",
       "    'velocity': 0.0,\n",
       "    'reaction_forces': (0.0, 0.0, 0.0, 0.0, 0.0, 0.0),\n",
       "    'motor_torque': 0.0}},\n",
       "  'robot_position': [0.0, 0.0, 0.03],\n",
       "  'pipette_position': [0.073, 0.0895, 0.1195]}}"
      ]
     },
     "execution_count": 5,
     "metadata": {},
     "output_type": "execute_result"
    }
   ],
   "source": [
    "from sim_class import Simulation\n",
    "\n",
    "# Initialize the simulation with a specified number of agents\n",
    "sim = Simulation(num_agents=1)  # For one robot\n",
    "\n",
    "# Example action: Move joints with specific velocities\n",
    "velocity_x = 0.1\n",
    "velocity_y = 0.1     \n",
    "velocity_z = 0.1\n",
    "drop_command = 0\n",
    "actions = [[velocity_x, velocity_y, velocity_z, drop_command]]\n",
    "\n",
    "# Run the simulation for a specified number of steps\n",
    "sim.run(actions, num_steps=1000)\n",
    "\n",
    "\n",
    "state = sim.run(actions)\n",
    "print(state)\n",
    "sim.reset(num_agents=1)  # Reset the simulation with the specified number of agents\n"
   ]
  },
  {
   "cell_type": "code",
   "execution_count": null,
   "metadata": {},
   "outputs": [],
   "source": [
    "from sim_class import Simulation\n",
    "import random\n",
    "# Initialize the simulation with a specified number of agents\n",
    "sim = Simulation(num_agents=2)  # For two robots\n",
    "\n",
    "# Run the simulation for a specified number of steps\n",
    "for i in range(1000):\n",
    "        # Example action: Move joints with specific velocities\n",
    "        velocity_x = random.uniform(-0.5, 0.5)\n",
    "        velocity_y = random.uniform(-0.5, 0.5)\n",
    "        velocity_z = random.uniform(-0.5, 0.5)\n",
    "        drop_command = random.randint(0, 1)\n",
    "\n",
    "        actions = [[velocity_x, velocity_y, velocity_z, drop_command],\n",
    "                [velocity_x, velocity_y, velocity_z, drop_command]]\n",
    "\n",
    "        sim.run(actions)\n"
   ]
  }
 ],
 "metadata": {
  "kernelspec": {
   "display_name": "block_c",
   "language": "python",
   "name": "python3"
  },
  "language_info": {
   "codemirror_mode": {
    "name": "ipython",
    "version": 3
   },
   "file_extension": ".py",
   "mimetype": "text/x-python",
   "name": "python",
   "nbconvert_exporter": "python",
   "pygments_lexer": "ipython3",
   "version": "3.10.13"
  }
 },
 "nbformat": 4,
 "nbformat_minor": 2
}
